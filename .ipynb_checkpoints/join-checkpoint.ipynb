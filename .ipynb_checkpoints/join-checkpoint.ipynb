{
 "cells": [
  {
   "cell_type": "code",
   "execution_count": 1,
   "metadata": {},
   "outputs": [],
   "source": [
    "import pandas as pd\n",
    "import json"
   ]
  },
  {
   "cell_type": "code",
   "execution_count": 2,
   "metadata": {},
   "outputs": [],
   "source": [
    "evictions = pd.read_excel('Evictions(dupes).xlsx', 2)\n",
    "\n",
    "with open('Modified Zip Code Tabulation Areas (MODZCTA).geojson') as f:\n",
    "  topojson = json.load(f)\n",
    "\n",
    "with open('data-clean.json') as f:\n",
    "  hoods = json.load(f)"
   ]
  },
  {
   "cell_type": "code",
   "execution_count": 3,
   "metadata": {},
   "outputs": [],
   "source": [
    "geometries = topojson['features']"
   ]
  },
  {
   "cell_type": "code",
   "execution_count": 4,
   "metadata": {},
   "outputs": [],
   "source": [
    "evictions = evictions.fillna(0)"
   ]
  },
  {
   "cell_type": "code",
   "execution_count": null,
   "metadata": {},
   "outputs": [],
   "source": []
  },
  {
   "cell_type": "code",
   "execution_count": 5,
   "metadata": {},
   "outputs": [
    {
     "name": "stdout",
     "output_type": "stream",
     "text": [
      "Brooklyn: Boerum Hill, BoCoCa\n"
     ]
    }
   ],
   "source": [
    "for zip in hoods['objects']['zips']['geometries']:\n",
    "    if zip['properties']['ZCTA5CE10'] == '11217':\n",
    "        print(zip['properties']['NEIGHBORHOOD'])"
   ]
  },
  {
   "cell_type": "code",
   "execution_count": 6,
   "metadata": {},
   "outputs": [
    {
     "ename": "IndexError",
     "evalue": "index 0 is out of bounds for axis 0 with size 0",
     "output_type": "error",
     "traceback": [
      "\u001b[0;31m---------------------------------------------------------------------------\u001b[0m",
      "\u001b[0;31mIndexError\u001b[0m                                Traceback (most recent call last)",
      "Input \u001b[0;32mIn [6]\u001b[0m, in \u001b[0;36m<module>\u001b[0;34m\u001b[0m\n\u001b[1;32m      5\u001b[0m     \u001b[38;5;28;01mif\u001b[39;00m \u001b[38;5;28mzip\u001b[39m[\u001b[38;5;124m'\u001b[39m\u001b[38;5;124mproperties\u001b[39m\u001b[38;5;124m'\u001b[39m][\u001b[38;5;124m'\u001b[39m\u001b[38;5;124mZCTA5CE10\u001b[39m\u001b[38;5;124m'\u001b[39m] \u001b[38;5;241m==\u001b[39m \u001b[38;5;28mstr\u001b[39m(z_num):\n\u001b[1;32m      6\u001b[0m         g[\u001b[38;5;124m'\u001b[39m\u001b[38;5;124mproperties\u001b[39m\u001b[38;5;124m'\u001b[39m][\u001b[38;5;124m'\u001b[39m\u001b[38;5;124mhood\u001b[39m\u001b[38;5;124m'\u001b[39m] \u001b[38;5;241m=\u001b[39m \u001b[38;5;28mzip\u001b[39m[\u001b[38;5;124m'\u001b[39m\u001b[38;5;124mproperties\u001b[39m\u001b[38;5;124m'\u001b[39m][\u001b[38;5;124m'\u001b[39m\u001b[38;5;124mNEIGHBORHOOD\u001b[39m\u001b[38;5;124m'\u001b[39m]\n\u001b[1;32m      8\u001b[0m g[\u001b[38;5;124m'\u001b[39m\u001b[38;5;124mproperties\u001b[39m\u001b[38;5;124m'\u001b[39m][\u001b[38;5;124m'\u001b[39m\u001b[38;5;124marrest\u001b[39m\u001b[38;5;124m'\u001b[39m] \u001b[38;5;241m=\u001b[39m {\n\u001b[0;32m----> 9\u001b[0m     \u001b[38;5;124m'\u001b[39m\u001b[38;5;124m201701\u001b[39m\u001b[38;5;124m'\u001b[39m:\u001b[38;5;28mint\u001b[39m(\u001b[43mevictions\u001b[49m\u001b[38;5;241;43m.\u001b[39;49m\u001b[43mloc\u001b[49m\u001b[43m[\u001b[49m\u001b[43mevictions\u001b[49m\u001b[43m[\u001b[49m\u001b[38;5;124;43m'\u001b[39;49m\u001b[38;5;124;43mZCTA\u001b[39;49m\u001b[38;5;124;43m'\u001b[39;49m\u001b[43m]\u001b[49m\u001b[38;5;241;43m==\u001b[39;49m\u001b[43mz_num\u001b[49m\u001b[43m]\u001b[49m\u001b[43m[\u001b[49m\u001b[38;5;124;43m'\u001b[39;49m\u001b[38;5;124;43m2017/01\u001b[39;49m\u001b[38;5;124;43m'\u001b[39;49m\u001b[43m]\u001b[49m\u001b[38;5;241;43m.\u001b[39;49m\u001b[43mvalues\u001b[49m\u001b[43m[\u001b[49m\u001b[38;5;241;43m0\u001b[39;49m\u001b[43m]\u001b[49m),\n\u001b[1;32m     10\u001b[0m     \u001b[38;5;124m'\u001b[39m\u001b[38;5;124m201702\u001b[39m\u001b[38;5;124m'\u001b[39m:\u001b[38;5;28mint\u001b[39m(evictions\u001b[38;5;241m.\u001b[39mloc[evictions[\u001b[38;5;124m'\u001b[39m\u001b[38;5;124mZCTA\u001b[39m\u001b[38;5;124m'\u001b[39m]\u001b[38;5;241m==\u001b[39mz_num][\u001b[38;5;124m'\u001b[39m\u001b[38;5;124m2017/02\u001b[39m\u001b[38;5;124m'\u001b[39m]\u001b[38;5;241m.\u001b[39mvalues[\u001b[38;5;241m0\u001b[39m]),\n\u001b[1;32m     11\u001b[0m     \u001b[38;5;124m'\u001b[39m\u001b[38;5;124m201703\u001b[39m\u001b[38;5;124m'\u001b[39m:\u001b[38;5;28mint\u001b[39m(evictions\u001b[38;5;241m.\u001b[39mloc[evictions[\u001b[38;5;124m'\u001b[39m\u001b[38;5;124mZCTA\u001b[39m\u001b[38;5;124m'\u001b[39m]\u001b[38;5;241m==\u001b[39mz_num][\u001b[38;5;124m'\u001b[39m\u001b[38;5;124m2017/03\u001b[39m\u001b[38;5;124m'\u001b[39m]\u001b[38;5;241m.\u001b[39mvalues[\u001b[38;5;241m0\u001b[39m]),\n\u001b[1;32m     12\u001b[0m     \u001b[38;5;124m'\u001b[39m\u001b[38;5;124m201704\u001b[39m\u001b[38;5;124m'\u001b[39m:\u001b[38;5;28mint\u001b[39m(evictions\u001b[38;5;241m.\u001b[39mloc[evictions[\u001b[38;5;124m'\u001b[39m\u001b[38;5;124mZCTA\u001b[39m\u001b[38;5;124m'\u001b[39m]\u001b[38;5;241m==\u001b[39mz_num][\u001b[38;5;124m'\u001b[39m\u001b[38;5;124m2017/04\u001b[39m\u001b[38;5;124m'\u001b[39m]\u001b[38;5;241m.\u001b[39mvalues[\u001b[38;5;241m0\u001b[39m]),\n\u001b[1;32m     13\u001b[0m     \u001b[38;5;124m'\u001b[39m\u001b[38;5;124m201705\u001b[39m\u001b[38;5;124m'\u001b[39m:\u001b[38;5;28mint\u001b[39m(evictions\u001b[38;5;241m.\u001b[39mloc[evictions[\u001b[38;5;124m'\u001b[39m\u001b[38;5;124mZCTA\u001b[39m\u001b[38;5;124m'\u001b[39m]\u001b[38;5;241m==\u001b[39mz_num][\u001b[38;5;124m'\u001b[39m\u001b[38;5;124m2017/05\u001b[39m\u001b[38;5;124m'\u001b[39m]\u001b[38;5;241m.\u001b[39mvalues[\u001b[38;5;241m0\u001b[39m]),\n\u001b[1;32m     14\u001b[0m     \u001b[38;5;124m'\u001b[39m\u001b[38;5;124m201706\u001b[39m\u001b[38;5;124m'\u001b[39m:\u001b[38;5;28mint\u001b[39m(evictions\u001b[38;5;241m.\u001b[39mloc[evictions[\u001b[38;5;124m'\u001b[39m\u001b[38;5;124mZCTA\u001b[39m\u001b[38;5;124m'\u001b[39m]\u001b[38;5;241m==\u001b[39mz_num][\u001b[38;5;124m'\u001b[39m\u001b[38;5;124m2017/06\u001b[39m\u001b[38;5;124m'\u001b[39m]\u001b[38;5;241m.\u001b[39mvalues[\u001b[38;5;241m0\u001b[39m]),\n\u001b[1;32m     15\u001b[0m     \u001b[38;5;124m'\u001b[39m\u001b[38;5;124m201707\u001b[39m\u001b[38;5;124m'\u001b[39m:\u001b[38;5;28mint\u001b[39m(evictions\u001b[38;5;241m.\u001b[39mloc[evictions[\u001b[38;5;124m'\u001b[39m\u001b[38;5;124mZCTA\u001b[39m\u001b[38;5;124m'\u001b[39m]\u001b[38;5;241m==\u001b[39mz_num][\u001b[38;5;124m'\u001b[39m\u001b[38;5;124m2017/07\u001b[39m\u001b[38;5;124m'\u001b[39m]\u001b[38;5;241m.\u001b[39mvalues[\u001b[38;5;241m0\u001b[39m]),\n\u001b[1;32m     16\u001b[0m     \u001b[38;5;124m'\u001b[39m\u001b[38;5;124m201708\u001b[39m\u001b[38;5;124m'\u001b[39m:\u001b[38;5;28mint\u001b[39m(evictions\u001b[38;5;241m.\u001b[39mloc[evictions[\u001b[38;5;124m'\u001b[39m\u001b[38;5;124mZCTA\u001b[39m\u001b[38;5;124m'\u001b[39m]\u001b[38;5;241m==\u001b[39mz_num][\u001b[38;5;124m'\u001b[39m\u001b[38;5;124m2017/08\u001b[39m\u001b[38;5;124m'\u001b[39m]\u001b[38;5;241m.\u001b[39mvalues[\u001b[38;5;241m0\u001b[39m]),\n\u001b[1;32m     17\u001b[0m     \u001b[38;5;124m'\u001b[39m\u001b[38;5;124m201709\u001b[39m\u001b[38;5;124m'\u001b[39m:\u001b[38;5;28mint\u001b[39m(evictions\u001b[38;5;241m.\u001b[39mloc[evictions[\u001b[38;5;124m'\u001b[39m\u001b[38;5;124mZCTA\u001b[39m\u001b[38;5;124m'\u001b[39m]\u001b[38;5;241m==\u001b[39mz_num][\u001b[38;5;124m'\u001b[39m\u001b[38;5;124m2017/09\u001b[39m\u001b[38;5;124m'\u001b[39m]\u001b[38;5;241m.\u001b[39mvalues[\u001b[38;5;241m0\u001b[39m]),\n\u001b[1;32m     18\u001b[0m     \u001b[38;5;124m'\u001b[39m\u001b[38;5;124m201710\u001b[39m\u001b[38;5;124m'\u001b[39m:\u001b[38;5;28mint\u001b[39m(evictions\u001b[38;5;241m.\u001b[39mloc[evictions[\u001b[38;5;124m'\u001b[39m\u001b[38;5;124mZCTA\u001b[39m\u001b[38;5;124m'\u001b[39m]\u001b[38;5;241m==\u001b[39mz_num][\u001b[38;5;124m'\u001b[39m\u001b[38;5;124m2017/10\u001b[39m\u001b[38;5;124m'\u001b[39m]\u001b[38;5;241m.\u001b[39mvalues[\u001b[38;5;241m0\u001b[39m]),\n\u001b[1;32m     19\u001b[0m     \u001b[38;5;124m'\u001b[39m\u001b[38;5;124m201711\u001b[39m\u001b[38;5;124m'\u001b[39m:\u001b[38;5;28mint\u001b[39m(evictions\u001b[38;5;241m.\u001b[39mloc[evictions[\u001b[38;5;124m'\u001b[39m\u001b[38;5;124mZCTA\u001b[39m\u001b[38;5;124m'\u001b[39m]\u001b[38;5;241m==\u001b[39mz_num][\u001b[38;5;124m'\u001b[39m\u001b[38;5;124m2017/11\u001b[39m\u001b[38;5;124m'\u001b[39m]\u001b[38;5;241m.\u001b[39mvalues[\u001b[38;5;241m0\u001b[39m]),\n\u001b[1;32m     20\u001b[0m     \u001b[38;5;124m'\u001b[39m\u001b[38;5;124m201712\u001b[39m\u001b[38;5;124m'\u001b[39m:\u001b[38;5;28mint\u001b[39m(evictions\u001b[38;5;241m.\u001b[39mloc[evictions[\u001b[38;5;124m'\u001b[39m\u001b[38;5;124mZCTA\u001b[39m\u001b[38;5;124m'\u001b[39m]\u001b[38;5;241m==\u001b[39mz_num][\u001b[38;5;124m'\u001b[39m\u001b[38;5;124m2017/12\u001b[39m\u001b[38;5;124m'\u001b[39m]\u001b[38;5;241m.\u001b[39mvalues[\u001b[38;5;241m0\u001b[39m]),\n\u001b[1;32m     21\u001b[0m     \u001b[38;5;124m'\u001b[39m\u001b[38;5;124m201801\u001b[39m\u001b[38;5;124m'\u001b[39m:\u001b[38;5;28mint\u001b[39m(evictions\u001b[38;5;241m.\u001b[39mloc[evictions[\u001b[38;5;124m'\u001b[39m\u001b[38;5;124mZCTA\u001b[39m\u001b[38;5;124m'\u001b[39m]\u001b[38;5;241m==\u001b[39mz_num][\u001b[38;5;124m'\u001b[39m\u001b[38;5;124m2018/01\u001b[39m\u001b[38;5;124m'\u001b[39m]\u001b[38;5;241m.\u001b[39mvalues[\u001b[38;5;241m0\u001b[39m]),\n\u001b[1;32m     22\u001b[0m     \u001b[38;5;124m'\u001b[39m\u001b[38;5;124m201802\u001b[39m\u001b[38;5;124m'\u001b[39m:\u001b[38;5;28mint\u001b[39m(evictions\u001b[38;5;241m.\u001b[39mloc[evictions[\u001b[38;5;124m'\u001b[39m\u001b[38;5;124mZCTA\u001b[39m\u001b[38;5;124m'\u001b[39m]\u001b[38;5;241m==\u001b[39mz_num][\u001b[38;5;124m'\u001b[39m\u001b[38;5;124m2018/02\u001b[39m\u001b[38;5;124m'\u001b[39m]\u001b[38;5;241m.\u001b[39mvalues[\u001b[38;5;241m0\u001b[39m]),\n\u001b[1;32m     23\u001b[0m     \u001b[38;5;124m'\u001b[39m\u001b[38;5;124m201803\u001b[39m\u001b[38;5;124m'\u001b[39m:\u001b[38;5;28mint\u001b[39m(evictions\u001b[38;5;241m.\u001b[39mloc[evictions[\u001b[38;5;124m'\u001b[39m\u001b[38;5;124mZCTA\u001b[39m\u001b[38;5;124m'\u001b[39m]\u001b[38;5;241m==\u001b[39mz_num][\u001b[38;5;124m'\u001b[39m\u001b[38;5;124m2018/03\u001b[39m\u001b[38;5;124m'\u001b[39m]\u001b[38;5;241m.\u001b[39mvalues[\u001b[38;5;241m0\u001b[39m]),\n\u001b[1;32m     24\u001b[0m     \u001b[38;5;124m'\u001b[39m\u001b[38;5;124m201804\u001b[39m\u001b[38;5;124m'\u001b[39m:\u001b[38;5;28mint\u001b[39m(evictions\u001b[38;5;241m.\u001b[39mloc[evictions[\u001b[38;5;124m'\u001b[39m\u001b[38;5;124mZCTA\u001b[39m\u001b[38;5;124m'\u001b[39m]\u001b[38;5;241m==\u001b[39mz_num][\u001b[38;5;124m'\u001b[39m\u001b[38;5;124m2018/04\u001b[39m\u001b[38;5;124m'\u001b[39m]\u001b[38;5;241m.\u001b[39mvalues[\u001b[38;5;241m0\u001b[39m]),\n\u001b[1;32m     25\u001b[0m     \u001b[38;5;124m'\u001b[39m\u001b[38;5;124m201805\u001b[39m\u001b[38;5;124m'\u001b[39m:\u001b[38;5;28mint\u001b[39m(evictions\u001b[38;5;241m.\u001b[39mloc[evictions[\u001b[38;5;124m'\u001b[39m\u001b[38;5;124mZCTA\u001b[39m\u001b[38;5;124m'\u001b[39m]\u001b[38;5;241m==\u001b[39mz_num][\u001b[38;5;124m'\u001b[39m\u001b[38;5;124m2018/05\u001b[39m\u001b[38;5;124m'\u001b[39m]\u001b[38;5;241m.\u001b[39mvalues[\u001b[38;5;241m0\u001b[39m]),\n\u001b[1;32m     26\u001b[0m     \u001b[38;5;124m'\u001b[39m\u001b[38;5;124m201806\u001b[39m\u001b[38;5;124m'\u001b[39m:\u001b[38;5;28mint\u001b[39m(evictions\u001b[38;5;241m.\u001b[39mloc[evictions[\u001b[38;5;124m'\u001b[39m\u001b[38;5;124mZCTA\u001b[39m\u001b[38;5;124m'\u001b[39m]\u001b[38;5;241m==\u001b[39mz_num][\u001b[38;5;124m'\u001b[39m\u001b[38;5;124m2018/06\u001b[39m\u001b[38;5;124m'\u001b[39m]\u001b[38;5;241m.\u001b[39mvalues[\u001b[38;5;241m0\u001b[39m]),\n\u001b[1;32m     27\u001b[0m     \u001b[38;5;124m'\u001b[39m\u001b[38;5;124m201807\u001b[39m\u001b[38;5;124m'\u001b[39m:\u001b[38;5;28mint\u001b[39m(evictions\u001b[38;5;241m.\u001b[39mloc[evictions[\u001b[38;5;124m'\u001b[39m\u001b[38;5;124mZCTA\u001b[39m\u001b[38;5;124m'\u001b[39m]\u001b[38;5;241m==\u001b[39mz_num][\u001b[38;5;124m'\u001b[39m\u001b[38;5;124m2018/07\u001b[39m\u001b[38;5;124m'\u001b[39m]\u001b[38;5;241m.\u001b[39mvalues[\u001b[38;5;241m0\u001b[39m]),\n\u001b[1;32m     28\u001b[0m     \u001b[38;5;124m'\u001b[39m\u001b[38;5;124m201808\u001b[39m\u001b[38;5;124m'\u001b[39m:\u001b[38;5;28mint\u001b[39m(evictions\u001b[38;5;241m.\u001b[39mloc[evictions[\u001b[38;5;124m'\u001b[39m\u001b[38;5;124mZCTA\u001b[39m\u001b[38;5;124m'\u001b[39m]\u001b[38;5;241m==\u001b[39mz_num][\u001b[38;5;124m'\u001b[39m\u001b[38;5;124m2018/08\u001b[39m\u001b[38;5;124m'\u001b[39m]\u001b[38;5;241m.\u001b[39mvalues[\u001b[38;5;241m0\u001b[39m]),\n\u001b[1;32m     29\u001b[0m     \u001b[38;5;124m'\u001b[39m\u001b[38;5;124m201809\u001b[39m\u001b[38;5;124m'\u001b[39m:\u001b[38;5;28mint\u001b[39m(evictions\u001b[38;5;241m.\u001b[39mloc[evictions[\u001b[38;5;124m'\u001b[39m\u001b[38;5;124mZCTA\u001b[39m\u001b[38;5;124m'\u001b[39m]\u001b[38;5;241m==\u001b[39mz_num][\u001b[38;5;124m'\u001b[39m\u001b[38;5;124m2018/09\u001b[39m\u001b[38;5;124m'\u001b[39m]\u001b[38;5;241m.\u001b[39mvalues[\u001b[38;5;241m0\u001b[39m]),\n\u001b[1;32m     30\u001b[0m     \u001b[38;5;124m'\u001b[39m\u001b[38;5;124m201810\u001b[39m\u001b[38;5;124m'\u001b[39m:\u001b[38;5;28mint\u001b[39m(evictions\u001b[38;5;241m.\u001b[39mloc[evictions[\u001b[38;5;124m'\u001b[39m\u001b[38;5;124mZCTA\u001b[39m\u001b[38;5;124m'\u001b[39m]\u001b[38;5;241m==\u001b[39mz_num][\u001b[38;5;124m'\u001b[39m\u001b[38;5;124m2018/10\u001b[39m\u001b[38;5;124m'\u001b[39m]\u001b[38;5;241m.\u001b[39mvalues[\u001b[38;5;241m0\u001b[39m]),\n\u001b[1;32m     31\u001b[0m     \u001b[38;5;124m'\u001b[39m\u001b[38;5;124m201811\u001b[39m\u001b[38;5;124m'\u001b[39m:\u001b[38;5;28mint\u001b[39m(evictions\u001b[38;5;241m.\u001b[39mloc[evictions[\u001b[38;5;124m'\u001b[39m\u001b[38;5;124mZCTA\u001b[39m\u001b[38;5;124m'\u001b[39m]\u001b[38;5;241m==\u001b[39mz_num][\u001b[38;5;124m'\u001b[39m\u001b[38;5;124m2018/11\u001b[39m\u001b[38;5;124m'\u001b[39m]\u001b[38;5;241m.\u001b[39mvalues[\u001b[38;5;241m0\u001b[39m]),\n\u001b[1;32m     32\u001b[0m     \u001b[38;5;124m'\u001b[39m\u001b[38;5;124m201812\u001b[39m\u001b[38;5;124m'\u001b[39m:\u001b[38;5;28mint\u001b[39m(evictions\u001b[38;5;241m.\u001b[39mloc[evictions[\u001b[38;5;124m'\u001b[39m\u001b[38;5;124mZCTA\u001b[39m\u001b[38;5;124m'\u001b[39m]\u001b[38;5;241m==\u001b[39mz_num][\u001b[38;5;124m'\u001b[39m\u001b[38;5;124m2018/12\u001b[39m\u001b[38;5;124m'\u001b[39m]\u001b[38;5;241m.\u001b[39mvalues[\u001b[38;5;241m0\u001b[39m]),\n\u001b[1;32m     33\u001b[0m     \u001b[38;5;124m'\u001b[39m\u001b[38;5;124m201901\u001b[39m\u001b[38;5;124m'\u001b[39m:\u001b[38;5;28mint\u001b[39m(evictions\u001b[38;5;241m.\u001b[39mloc[evictions[\u001b[38;5;124m'\u001b[39m\u001b[38;5;124mZCTA\u001b[39m\u001b[38;5;124m'\u001b[39m]\u001b[38;5;241m==\u001b[39mz_num][\u001b[38;5;124m'\u001b[39m\u001b[38;5;124m2019/01\u001b[39m\u001b[38;5;124m'\u001b[39m]\u001b[38;5;241m.\u001b[39mvalues[\u001b[38;5;241m0\u001b[39m]),\n\u001b[1;32m     34\u001b[0m     \u001b[38;5;124m'\u001b[39m\u001b[38;5;124m201902\u001b[39m\u001b[38;5;124m'\u001b[39m:\u001b[38;5;28mint\u001b[39m(evictions\u001b[38;5;241m.\u001b[39mloc[evictions[\u001b[38;5;124m'\u001b[39m\u001b[38;5;124mZCTA\u001b[39m\u001b[38;5;124m'\u001b[39m]\u001b[38;5;241m==\u001b[39mz_num][\u001b[38;5;124m'\u001b[39m\u001b[38;5;124m2019/02\u001b[39m\u001b[38;5;124m'\u001b[39m]\u001b[38;5;241m.\u001b[39mvalues[\u001b[38;5;241m0\u001b[39m]),\n\u001b[1;32m     35\u001b[0m     \u001b[38;5;124m'\u001b[39m\u001b[38;5;124m201903\u001b[39m\u001b[38;5;124m'\u001b[39m:\u001b[38;5;28mint\u001b[39m(evictions\u001b[38;5;241m.\u001b[39mloc[evictions[\u001b[38;5;124m'\u001b[39m\u001b[38;5;124mZCTA\u001b[39m\u001b[38;5;124m'\u001b[39m]\u001b[38;5;241m==\u001b[39mz_num][\u001b[38;5;124m'\u001b[39m\u001b[38;5;124m2019/03\u001b[39m\u001b[38;5;124m'\u001b[39m]\u001b[38;5;241m.\u001b[39mvalues[\u001b[38;5;241m0\u001b[39m]),\n\u001b[1;32m     36\u001b[0m     \u001b[38;5;124m'\u001b[39m\u001b[38;5;124m201904\u001b[39m\u001b[38;5;124m'\u001b[39m:\u001b[38;5;28mint\u001b[39m(evictions\u001b[38;5;241m.\u001b[39mloc[evictions[\u001b[38;5;124m'\u001b[39m\u001b[38;5;124mZCTA\u001b[39m\u001b[38;5;124m'\u001b[39m]\u001b[38;5;241m==\u001b[39mz_num][\u001b[38;5;124m'\u001b[39m\u001b[38;5;124m2019/04\u001b[39m\u001b[38;5;124m'\u001b[39m]\u001b[38;5;241m.\u001b[39mvalues[\u001b[38;5;241m0\u001b[39m]),\n\u001b[1;32m     37\u001b[0m     \u001b[38;5;124m'\u001b[39m\u001b[38;5;124m201905\u001b[39m\u001b[38;5;124m'\u001b[39m:\u001b[38;5;28mint\u001b[39m(evictions\u001b[38;5;241m.\u001b[39mloc[evictions[\u001b[38;5;124m'\u001b[39m\u001b[38;5;124mZCTA\u001b[39m\u001b[38;5;124m'\u001b[39m]\u001b[38;5;241m==\u001b[39mz_num][\u001b[38;5;124m'\u001b[39m\u001b[38;5;124m2019/05\u001b[39m\u001b[38;5;124m'\u001b[39m]\u001b[38;5;241m.\u001b[39mvalues[\u001b[38;5;241m0\u001b[39m]),\n\u001b[1;32m     38\u001b[0m     \u001b[38;5;124m'\u001b[39m\u001b[38;5;124m201906\u001b[39m\u001b[38;5;124m'\u001b[39m:\u001b[38;5;28mint\u001b[39m(evictions\u001b[38;5;241m.\u001b[39mloc[evictions[\u001b[38;5;124m'\u001b[39m\u001b[38;5;124mZCTA\u001b[39m\u001b[38;5;124m'\u001b[39m]\u001b[38;5;241m==\u001b[39mz_num][\u001b[38;5;124m'\u001b[39m\u001b[38;5;124m2019/06\u001b[39m\u001b[38;5;124m'\u001b[39m]\u001b[38;5;241m.\u001b[39mvalues[\u001b[38;5;241m0\u001b[39m]),\n\u001b[1;32m     39\u001b[0m     \u001b[38;5;124m'\u001b[39m\u001b[38;5;124m201907\u001b[39m\u001b[38;5;124m'\u001b[39m:\u001b[38;5;28mint\u001b[39m(evictions\u001b[38;5;241m.\u001b[39mloc[evictions[\u001b[38;5;124m'\u001b[39m\u001b[38;5;124mZCTA\u001b[39m\u001b[38;5;124m'\u001b[39m]\u001b[38;5;241m==\u001b[39mz_num][\u001b[38;5;124m'\u001b[39m\u001b[38;5;124m2019/07\u001b[39m\u001b[38;5;124m'\u001b[39m]\u001b[38;5;241m.\u001b[39mvalues[\u001b[38;5;241m0\u001b[39m]),\n\u001b[1;32m     40\u001b[0m     \u001b[38;5;124m'\u001b[39m\u001b[38;5;124m201908\u001b[39m\u001b[38;5;124m'\u001b[39m:\u001b[38;5;28mint\u001b[39m(evictions\u001b[38;5;241m.\u001b[39mloc[evictions[\u001b[38;5;124m'\u001b[39m\u001b[38;5;124mZCTA\u001b[39m\u001b[38;5;124m'\u001b[39m]\u001b[38;5;241m==\u001b[39mz_num][\u001b[38;5;124m'\u001b[39m\u001b[38;5;124m2019/08\u001b[39m\u001b[38;5;124m'\u001b[39m]\u001b[38;5;241m.\u001b[39mvalues[\u001b[38;5;241m0\u001b[39m]),\n\u001b[1;32m     41\u001b[0m     \u001b[38;5;124m'\u001b[39m\u001b[38;5;124m201909\u001b[39m\u001b[38;5;124m'\u001b[39m:\u001b[38;5;28mint\u001b[39m(evictions\u001b[38;5;241m.\u001b[39mloc[evictions[\u001b[38;5;124m'\u001b[39m\u001b[38;5;124mZCTA\u001b[39m\u001b[38;5;124m'\u001b[39m]\u001b[38;5;241m==\u001b[39mz_num][\u001b[38;5;124m'\u001b[39m\u001b[38;5;124m2019/09\u001b[39m\u001b[38;5;124m'\u001b[39m]\u001b[38;5;241m.\u001b[39mvalues[\u001b[38;5;241m0\u001b[39m]),\n\u001b[1;32m     42\u001b[0m     \u001b[38;5;124m'\u001b[39m\u001b[38;5;124m201910\u001b[39m\u001b[38;5;124m'\u001b[39m:\u001b[38;5;28mint\u001b[39m(evictions\u001b[38;5;241m.\u001b[39mloc[evictions[\u001b[38;5;124m'\u001b[39m\u001b[38;5;124mZCTA\u001b[39m\u001b[38;5;124m'\u001b[39m]\u001b[38;5;241m==\u001b[39mz_num][\u001b[38;5;124m'\u001b[39m\u001b[38;5;124m2019/10\u001b[39m\u001b[38;5;124m'\u001b[39m]\u001b[38;5;241m.\u001b[39mvalues[\u001b[38;5;241m0\u001b[39m]),\n\u001b[1;32m     43\u001b[0m     \u001b[38;5;124m'\u001b[39m\u001b[38;5;124m201911\u001b[39m\u001b[38;5;124m'\u001b[39m:\u001b[38;5;28mint\u001b[39m(evictions\u001b[38;5;241m.\u001b[39mloc[evictions[\u001b[38;5;124m'\u001b[39m\u001b[38;5;124mZCTA\u001b[39m\u001b[38;5;124m'\u001b[39m]\u001b[38;5;241m==\u001b[39mz_num][\u001b[38;5;124m'\u001b[39m\u001b[38;5;124m2019/11\u001b[39m\u001b[38;5;124m'\u001b[39m]\u001b[38;5;241m.\u001b[39mvalues[\u001b[38;5;241m0\u001b[39m]),\n\u001b[1;32m     44\u001b[0m     \u001b[38;5;124m'\u001b[39m\u001b[38;5;124m201912\u001b[39m\u001b[38;5;124m'\u001b[39m:\u001b[38;5;28mint\u001b[39m(evictions\u001b[38;5;241m.\u001b[39mloc[evictions[\u001b[38;5;124m'\u001b[39m\u001b[38;5;124mZCTA\u001b[39m\u001b[38;5;124m'\u001b[39m]\u001b[38;5;241m==\u001b[39mz_num][\u001b[38;5;124m'\u001b[39m\u001b[38;5;124m2019/12\u001b[39m\u001b[38;5;124m'\u001b[39m]\u001b[38;5;241m.\u001b[39mvalues[\u001b[38;5;241m0\u001b[39m]),\n\u001b[1;32m     45\u001b[0m     \u001b[38;5;124m'\u001b[39m\u001b[38;5;124m202001\u001b[39m\u001b[38;5;124m'\u001b[39m:\u001b[38;5;28mint\u001b[39m(evictions\u001b[38;5;241m.\u001b[39mloc[evictions[\u001b[38;5;124m'\u001b[39m\u001b[38;5;124mZCTA\u001b[39m\u001b[38;5;124m'\u001b[39m]\u001b[38;5;241m==\u001b[39mz_num][\u001b[38;5;124m'\u001b[39m\u001b[38;5;124m2020/01\u001b[39m\u001b[38;5;124m'\u001b[39m]\u001b[38;5;241m.\u001b[39mvalues[\u001b[38;5;241m0\u001b[39m]),\n\u001b[1;32m     46\u001b[0m     \u001b[38;5;124m'\u001b[39m\u001b[38;5;124m202002\u001b[39m\u001b[38;5;124m'\u001b[39m:\u001b[38;5;28mint\u001b[39m(evictions\u001b[38;5;241m.\u001b[39mloc[evictions[\u001b[38;5;124m'\u001b[39m\u001b[38;5;124mZCTA\u001b[39m\u001b[38;5;124m'\u001b[39m]\u001b[38;5;241m==\u001b[39mz_num][\u001b[38;5;124m'\u001b[39m\u001b[38;5;124m2020/02\u001b[39m\u001b[38;5;124m'\u001b[39m]\u001b[38;5;241m.\u001b[39mvalues[\u001b[38;5;241m0\u001b[39m]),\n\u001b[1;32m     47\u001b[0m     \u001b[38;5;124m'\u001b[39m\u001b[38;5;124m202003\u001b[39m\u001b[38;5;124m'\u001b[39m:\u001b[38;5;28mint\u001b[39m(evictions\u001b[38;5;241m.\u001b[39mloc[evictions[\u001b[38;5;124m'\u001b[39m\u001b[38;5;124mZCTA\u001b[39m\u001b[38;5;124m'\u001b[39m]\u001b[38;5;241m==\u001b[39mz_num][\u001b[38;5;124m'\u001b[39m\u001b[38;5;124m2020/03\u001b[39m\u001b[38;5;124m'\u001b[39m]\u001b[38;5;241m.\u001b[39mvalues[\u001b[38;5;241m0\u001b[39m]),\n\u001b[1;32m     48\u001b[0m     \u001b[38;5;124m'\u001b[39m\u001b[38;5;124m202004\u001b[39m\u001b[38;5;124m'\u001b[39m:\u001b[38;5;28mint\u001b[39m(evictions\u001b[38;5;241m.\u001b[39mloc[evictions[\u001b[38;5;124m'\u001b[39m\u001b[38;5;124mZCTA\u001b[39m\u001b[38;5;124m'\u001b[39m]\u001b[38;5;241m==\u001b[39mz_num][\u001b[38;5;124m'\u001b[39m\u001b[38;5;124m2020/04\u001b[39m\u001b[38;5;124m'\u001b[39m]\u001b[38;5;241m.\u001b[39mvalues[\u001b[38;5;241m0\u001b[39m]),\n\u001b[1;32m     49\u001b[0m     \u001b[38;5;124m'\u001b[39m\u001b[38;5;124m202005\u001b[39m\u001b[38;5;124m'\u001b[39m:\u001b[38;5;28mint\u001b[39m(evictions\u001b[38;5;241m.\u001b[39mloc[evictions[\u001b[38;5;124m'\u001b[39m\u001b[38;5;124mZCTA\u001b[39m\u001b[38;5;124m'\u001b[39m]\u001b[38;5;241m==\u001b[39mz_num][\u001b[38;5;124m'\u001b[39m\u001b[38;5;124m2020/05\u001b[39m\u001b[38;5;124m'\u001b[39m]\u001b[38;5;241m.\u001b[39mvalues[\u001b[38;5;241m0\u001b[39m]),\n\u001b[1;32m     50\u001b[0m     \u001b[38;5;124m'\u001b[39m\u001b[38;5;124m202006\u001b[39m\u001b[38;5;124m'\u001b[39m:\u001b[38;5;28mint\u001b[39m(evictions\u001b[38;5;241m.\u001b[39mloc[evictions[\u001b[38;5;124m'\u001b[39m\u001b[38;5;124mZCTA\u001b[39m\u001b[38;5;124m'\u001b[39m]\u001b[38;5;241m==\u001b[39mz_num][\u001b[38;5;124m'\u001b[39m\u001b[38;5;124m2020/06\u001b[39m\u001b[38;5;124m'\u001b[39m]\u001b[38;5;241m.\u001b[39mvalues[\u001b[38;5;241m0\u001b[39m]),\n\u001b[1;32m     51\u001b[0m     \u001b[38;5;124m'\u001b[39m\u001b[38;5;124m202007\u001b[39m\u001b[38;5;124m'\u001b[39m:\u001b[38;5;28mint\u001b[39m(evictions\u001b[38;5;241m.\u001b[39mloc[evictions[\u001b[38;5;124m'\u001b[39m\u001b[38;5;124mZCTA\u001b[39m\u001b[38;5;124m'\u001b[39m]\u001b[38;5;241m==\u001b[39mz_num][\u001b[38;5;124m'\u001b[39m\u001b[38;5;124m2020/07\u001b[39m\u001b[38;5;124m'\u001b[39m]\u001b[38;5;241m.\u001b[39mvalues[\u001b[38;5;241m0\u001b[39m]),\n\u001b[1;32m     52\u001b[0m     \u001b[38;5;124m'\u001b[39m\u001b[38;5;124m202008\u001b[39m\u001b[38;5;124m'\u001b[39m:\u001b[38;5;28mint\u001b[39m(evictions\u001b[38;5;241m.\u001b[39mloc[evictions[\u001b[38;5;124m'\u001b[39m\u001b[38;5;124mZCTA\u001b[39m\u001b[38;5;124m'\u001b[39m]\u001b[38;5;241m==\u001b[39mz_num][\u001b[38;5;124m'\u001b[39m\u001b[38;5;124m2020/08\u001b[39m\u001b[38;5;124m'\u001b[39m]\u001b[38;5;241m.\u001b[39mvalues[\u001b[38;5;241m0\u001b[39m]),\n\u001b[1;32m     53\u001b[0m     \u001b[38;5;124m'\u001b[39m\u001b[38;5;124m202009\u001b[39m\u001b[38;5;124m'\u001b[39m:\u001b[38;5;28mint\u001b[39m(evictions\u001b[38;5;241m.\u001b[39mloc[evictions[\u001b[38;5;124m'\u001b[39m\u001b[38;5;124mZCTA\u001b[39m\u001b[38;5;124m'\u001b[39m]\u001b[38;5;241m==\u001b[39mz_num][\u001b[38;5;124m'\u001b[39m\u001b[38;5;124m2020/09\u001b[39m\u001b[38;5;124m'\u001b[39m]\u001b[38;5;241m.\u001b[39mvalues[\u001b[38;5;241m0\u001b[39m]),\n\u001b[1;32m     54\u001b[0m     \u001b[38;5;124m'\u001b[39m\u001b[38;5;124m202010\u001b[39m\u001b[38;5;124m'\u001b[39m:\u001b[38;5;28mint\u001b[39m(evictions\u001b[38;5;241m.\u001b[39mloc[evictions[\u001b[38;5;124m'\u001b[39m\u001b[38;5;124mZCTA\u001b[39m\u001b[38;5;124m'\u001b[39m]\u001b[38;5;241m==\u001b[39mz_num][\u001b[38;5;124m'\u001b[39m\u001b[38;5;124m2020/10\u001b[39m\u001b[38;5;124m'\u001b[39m]\u001b[38;5;241m.\u001b[39mvalues[\u001b[38;5;241m0\u001b[39m]),\n\u001b[1;32m     55\u001b[0m     \u001b[38;5;124m'\u001b[39m\u001b[38;5;124m202011\u001b[39m\u001b[38;5;124m'\u001b[39m:\u001b[38;5;28mint\u001b[39m(evictions\u001b[38;5;241m.\u001b[39mloc[evictions[\u001b[38;5;124m'\u001b[39m\u001b[38;5;124mZCTA\u001b[39m\u001b[38;5;124m'\u001b[39m]\u001b[38;5;241m==\u001b[39mz_num][\u001b[38;5;124m'\u001b[39m\u001b[38;5;124m2020/11\u001b[39m\u001b[38;5;124m'\u001b[39m]\u001b[38;5;241m.\u001b[39mvalues[\u001b[38;5;241m0\u001b[39m]),\n\u001b[1;32m     56\u001b[0m     \u001b[38;5;124m'\u001b[39m\u001b[38;5;124m202012\u001b[39m\u001b[38;5;124m'\u001b[39m:\u001b[38;5;28mint\u001b[39m(evictions\u001b[38;5;241m.\u001b[39mloc[evictions[\u001b[38;5;124m'\u001b[39m\u001b[38;5;124mZCTA\u001b[39m\u001b[38;5;124m'\u001b[39m]\u001b[38;5;241m==\u001b[39mz_num][\u001b[38;5;124m'\u001b[39m\u001b[38;5;124m2020/12\u001b[39m\u001b[38;5;124m'\u001b[39m]\u001b[38;5;241m.\u001b[39mvalues[\u001b[38;5;241m0\u001b[39m]),\n\u001b[1;32m     57\u001b[0m     \u001b[38;5;124m'\u001b[39m\u001b[38;5;124m202101\u001b[39m\u001b[38;5;124m'\u001b[39m:\u001b[38;5;28mint\u001b[39m(evictions\u001b[38;5;241m.\u001b[39mloc[evictions[\u001b[38;5;124m'\u001b[39m\u001b[38;5;124mZCTA\u001b[39m\u001b[38;5;124m'\u001b[39m]\u001b[38;5;241m==\u001b[39mz_num][\u001b[38;5;124m'\u001b[39m\u001b[38;5;124m2021/01\u001b[39m\u001b[38;5;124m'\u001b[39m]\u001b[38;5;241m.\u001b[39mvalues[\u001b[38;5;241m0\u001b[39m]),\n\u001b[1;32m     58\u001b[0m     \u001b[38;5;124m'\u001b[39m\u001b[38;5;124m202102\u001b[39m\u001b[38;5;124m'\u001b[39m:\u001b[38;5;28mint\u001b[39m(evictions\u001b[38;5;241m.\u001b[39mloc[evictions[\u001b[38;5;124m'\u001b[39m\u001b[38;5;124mZCTA\u001b[39m\u001b[38;5;124m'\u001b[39m]\u001b[38;5;241m==\u001b[39mz_num][\u001b[38;5;124m'\u001b[39m\u001b[38;5;124m2021/02\u001b[39m\u001b[38;5;124m'\u001b[39m]\u001b[38;5;241m.\u001b[39mvalues[\u001b[38;5;241m0\u001b[39m]),\n\u001b[1;32m     59\u001b[0m     \u001b[38;5;124m'\u001b[39m\u001b[38;5;124m202103\u001b[39m\u001b[38;5;124m'\u001b[39m:\u001b[38;5;28mint\u001b[39m(evictions\u001b[38;5;241m.\u001b[39mloc[evictions[\u001b[38;5;124m'\u001b[39m\u001b[38;5;124mZCTA\u001b[39m\u001b[38;5;124m'\u001b[39m]\u001b[38;5;241m==\u001b[39mz_num][\u001b[38;5;124m'\u001b[39m\u001b[38;5;124m2021/03\u001b[39m\u001b[38;5;124m'\u001b[39m]\u001b[38;5;241m.\u001b[39mvalues[\u001b[38;5;241m0\u001b[39m]),\n\u001b[1;32m     60\u001b[0m     \u001b[38;5;124m'\u001b[39m\u001b[38;5;124m202104\u001b[39m\u001b[38;5;124m'\u001b[39m:\u001b[38;5;28mint\u001b[39m(evictions\u001b[38;5;241m.\u001b[39mloc[evictions[\u001b[38;5;124m'\u001b[39m\u001b[38;5;124mZCTA\u001b[39m\u001b[38;5;124m'\u001b[39m]\u001b[38;5;241m==\u001b[39mz_num][\u001b[38;5;124m'\u001b[39m\u001b[38;5;124m2021/04\u001b[39m\u001b[38;5;124m'\u001b[39m]\u001b[38;5;241m.\u001b[39mvalues[\u001b[38;5;241m0\u001b[39m]),\n\u001b[1;32m     61\u001b[0m     \u001b[38;5;124m'\u001b[39m\u001b[38;5;124m202105\u001b[39m\u001b[38;5;124m'\u001b[39m:\u001b[38;5;28mint\u001b[39m(evictions\u001b[38;5;241m.\u001b[39mloc[evictions[\u001b[38;5;124m'\u001b[39m\u001b[38;5;124mZCTA\u001b[39m\u001b[38;5;124m'\u001b[39m]\u001b[38;5;241m==\u001b[39mz_num][\u001b[38;5;124m'\u001b[39m\u001b[38;5;124m2021/05\u001b[39m\u001b[38;5;124m'\u001b[39m]\u001b[38;5;241m.\u001b[39mvalues[\u001b[38;5;241m0\u001b[39m]),\n\u001b[1;32m     62\u001b[0m     \u001b[38;5;124m'\u001b[39m\u001b[38;5;124m202106\u001b[39m\u001b[38;5;124m'\u001b[39m:\u001b[38;5;28mint\u001b[39m(evictions\u001b[38;5;241m.\u001b[39mloc[evictions[\u001b[38;5;124m'\u001b[39m\u001b[38;5;124mZCTA\u001b[39m\u001b[38;5;124m'\u001b[39m]\u001b[38;5;241m==\u001b[39mz_num][\u001b[38;5;124m'\u001b[39m\u001b[38;5;124m2021/06\u001b[39m\u001b[38;5;124m'\u001b[39m]\u001b[38;5;241m.\u001b[39mvalues[\u001b[38;5;241m0\u001b[39m]),\n\u001b[1;32m     63\u001b[0m     \u001b[38;5;124m'\u001b[39m\u001b[38;5;124m202107\u001b[39m\u001b[38;5;124m'\u001b[39m:\u001b[38;5;28mint\u001b[39m(evictions\u001b[38;5;241m.\u001b[39mloc[evictions[\u001b[38;5;124m'\u001b[39m\u001b[38;5;124mZCTA\u001b[39m\u001b[38;5;124m'\u001b[39m]\u001b[38;5;241m==\u001b[39mz_num][\u001b[38;5;124m'\u001b[39m\u001b[38;5;124m2021/07\u001b[39m\u001b[38;5;124m'\u001b[39m]\u001b[38;5;241m.\u001b[39mvalues[\u001b[38;5;241m0\u001b[39m]),\n\u001b[1;32m     64\u001b[0m     \u001b[38;5;124m'\u001b[39m\u001b[38;5;124m202108\u001b[39m\u001b[38;5;124m'\u001b[39m:\u001b[38;5;28mint\u001b[39m(evictions\u001b[38;5;241m.\u001b[39mloc[evictions[\u001b[38;5;124m'\u001b[39m\u001b[38;5;124mZCTA\u001b[39m\u001b[38;5;124m'\u001b[39m]\u001b[38;5;241m==\u001b[39mz_num][\u001b[38;5;124m'\u001b[39m\u001b[38;5;124m2021/08\u001b[39m\u001b[38;5;124m'\u001b[39m]\u001b[38;5;241m.\u001b[39mvalues[\u001b[38;5;241m0\u001b[39m]),\n\u001b[1;32m     65\u001b[0m     \u001b[38;5;124m'\u001b[39m\u001b[38;5;124m202109\u001b[39m\u001b[38;5;124m'\u001b[39m:\u001b[38;5;28mint\u001b[39m(evictions\u001b[38;5;241m.\u001b[39mloc[evictions[\u001b[38;5;124m'\u001b[39m\u001b[38;5;124mZCTA\u001b[39m\u001b[38;5;124m'\u001b[39m]\u001b[38;5;241m==\u001b[39mz_num][\u001b[38;5;124m'\u001b[39m\u001b[38;5;124m2021/09\u001b[39m\u001b[38;5;124m'\u001b[39m]\u001b[38;5;241m.\u001b[39mvalues[\u001b[38;5;241m0\u001b[39m]),\n\u001b[1;32m     66\u001b[0m     \u001b[38;5;124m'\u001b[39m\u001b[38;5;124m202110\u001b[39m\u001b[38;5;124m'\u001b[39m:\u001b[38;5;28mint\u001b[39m(evictions\u001b[38;5;241m.\u001b[39mloc[evictions[\u001b[38;5;124m'\u001b[39m\u001b[38;5;124mZCTA\u001b[39m\u001b[38;5;124m'\u001b[39m]\u001b[38;5;241m==\u001b[39mz_num][\u001b[38;5;124m'\u001b[39m\u001b[38;5;124m2021/10\u001b[39m\u001b[38;5;124m'\u001b[39m]\u001b[38;5;241m.\u001b[39mvalues[\u001b[38;5;241m0\u001b[39m]),\n\u001b[1;32m     67\u001b[0m     \u001b[38;5;124m'\u001b[39m\u001b[38;5;124m202111\u001b[39m\u001b[38;5;124m'\u001b[39m:\u001b[38;5;28mint\u001b[39m(evictions\u001b[38;5;241m.\u001b[39mloc[evictions[\u001b[38;5;124m'\u001b[39m\u001b[38;5;124mZCTA\u001b[39m\u001b[38;5;124m'\u001b[39m]\u001b[38;5;241m==\u001b[39mz_num][\u001b[38;5;124m'\u001b[39m\u001b[38;5;124m2021/11\u001b[39m\u001b[38;5;124m'\u001b[39m]\u001b[38;5;241m.\u001b[39mvalues[\u001b[38;5;241m0\u001b[39m]),\n\u001b[1;32m     68\u001b[0m     \u001b[38;5;124m'\u001b[39m\u001b[38;5;124m202112\u001b[39m\u001b[38;5;124m'\u001b[39m:\u001b[38;5;28mint\u001b[39m(evictions\u001b[38;5;241m.\u001b[39mloc[evictions[\u001b[38;5;124m'\u001b[39m\u001b[38;5;124mZCTA\u001b[39m\u001b[38;5;124m'\u001b[39m]\u001b[38;5;241m==\u001b[39mz_num][\u001b[38;5;124m'\u001b[39m\u001b[38;5;124m2021/12\u001b[39m\u001b[38;5;124m'\u001b[39m]\u001b[38;5;241m.\u001b[39mvalues[\u001b[38;5;241m0\u001b[39m]),\n\u001b[1;32m     69\u001b[0m     \u001b[38;5;124m'\u001b[39m\u001b[38;5;124m202201\u001b[39m\u001b[38;5;124m'\u001b[39m:\u001b[38;5;28mint\u001b[39m(evictions\u001b[38;5;241m.\u001b[39mloc[evictions[\u001b[38;5;124m'\u001b[39m\u001b[38;5;124mZCTA\u001b[39m\u001b[38;5;124m'\u001b[39m]\u001b[38;5;241m==\u001b[39mz_num][\u001b[38;5;124m'\u001b[39m\u001b[38;5;124m2022/01\u001b[39m\u001b[38;5;124m'\u001b[39m]\u001b[38;5;241m.\u001b[39mvalues[\u001b[38;5;241m0\u001b[39m]),\n\u001b[1;32m     70\u001b[0m     \u001b[38;5;124m'\u001b[39m\u001b[38;5;124m202202\u001b[39m\u001b[38;5;124m'\u001b[39m:\u001b[38;5;28mint\u001b[39m(evictions\u001b[38;5;241m.\u001b[39mloc[evictions[\u001b[38;5;124m'\u001b[39m\u001b[38;5;124mZCTA\u001b[39m\u001b[38;5;124m'\u001b[39m]\u001b[38;5;241m==\u001b[39mz_num][\u001b[38;5;124m'\u001b[39m\u001b[38;5;124m2022/02\u001b[39m\u001b[38;5;124m'\u001b[39m]\u001b[38;5;241m.\u001b[39mvalues[\u001b[38;5;241m0\u001b[39m]),\n\u001b[1;32m     71\u001b[0m     \u001b[38;5;124m'\u001b[39m\u001b[38;5;124m202203\u001b[39m\u001b[38;5;124m'\u001b[39m:\u001b[38;5;28mint\u001b[39m(evictions\u001b[38;5;241m.\u001b[39mloc[evictions[\u001b[38;5;124m'\u001b[39m\u001b[38;5;124mZCTA\u001b[39m\u001b[38;5;124m'\u001b[39m]\u001b[38;5;241m==\u001b[39mz_num][\u001b[38;5;124m'\u001b[39m\u001b[38;5;124m2022/03\u001b[39m\u001b[38;5;124m'\u001b[39m]\u001b[38;5;241m.\u001b[39mvalues[\u001b[38;5;241m0\u001b[39m]),\n\u001b[1;32m     72\u001b[0m     \u001b[38;5;124m'\u001b[39m\u001b[38;5;124m202204\u001b[39m\u001b[38;5;124m'\u001b[39m:\u001b[38;5;28mint\u001b[39m(evictions\u001b[38;5;241m.\u001b[39mloc[evictions[\u001b[38;5;124m'\u001b[39m\u001b[38;5;124mZCTA\u001b[39m\u001b[38;5;124m'\u001b[39m]\u001b[38;5;241m==\u001b[39mz_num][\u001b[38;5;124m'\u001b[39m\u001b[38;5;124m2022/04\u001b[39m\u001b[38;5;124m'\u001b[39m]\u001b[38;5;241m.\u001b[39mvalues[\u001b[38;5;241m0\u001b[39m]),\n\u001b[1;32m     73\u001b[0m     \u001b[38;5;124m'\u001b[39m\u001b[38;5;124m202205\u001b[39m\u001b[38;5;124m'\u001b[39m:\u001b[38;5;28mint\u001b[39m(evictions\u001b[38;5;241m.\u001b[39mloc[evictions[\u001b[38;5;124m'\u001b[39m\u001b[38;5;124mZCTA\u001b[39m\u001b[38;5;124m'\u001b[39m]\u001b[38;5;241m==\u001b[39mz_num][\u001b[38;5;124m'\u001b[39m\u001b[38;5;124m2022/05\u001b[39m\u001b[38;5;124m'\u001b[39m]\u001b[38;5;241m.\u001b[39mvalues[\u001b[38;5;241m0\u001b[39m]),\n\u001b[1;32m     74\u001b[0m     \u001b[38;5;124m'\u001b[39m\u001b[38;5;124m202206\u001b[39m\u001b[38;5;124m'\u001b[39m:\u001b[38;5;28mint\u001b[39m(evictions\u001b[38;5;241m.\u001b[39mloc[evictions[\u001b[38;5;124m'\u001b[39m\u001b[38;5;124mZCTA\u001b[39m\u001b[38;5;124m'\u001b[39m]\u001b[38;5;241m==\u001b[39mz_num][\u001b[38;5;124m'\u001b[39m\u001b[38;5;124m2022/06\u001b[39m\u001b[38;5;124m'\u001b[39m]\u001b[38;5;241m.\u001b[39mvalues[\u001b[38;5;241m0\u001b[39m]),\n\u001b[1;32m     75\u001b[0m     \u001b[38;5;124m'\u001b[39m\u001b[38;5;124mtotal\u001b[39m\u001b[38;5;124m'\u001b[39m: \u001b[38;5;28msum\u001b[39m(evictions\u001b[38;5;241m.\u001b[39mloc[evictions[\u001b[38;5;124m'\u001b[39m\u001b[38;5;124mZCTA\u001b[39m\u001b[38;5;124m'\u001b[39m]\u001b[38;5;241m==\u001b[39mz_num]\u001b[38;5;241m.\u001b[39mvalues[\u001b[38;5;241m0\u001b[39m][\u001b[38;5;241m1\u001b[39m:])\n\u001b[1;32m     76\u001b[0m }\n",
      "\u001b[0;31mIndexError\u001b[0m: index 0 is out of bounds for axis 0 with size 0"
     ]
    }
   ],
   "source": [
    "for g in geometries:\n",
    "    z_num = int(g['properties']['modzcta'])\n",
    "    \n",
    "    for zip in hoods['objects']['zips']['geometries']:\n",
    "        if zip['properties']['ZCTA5CE10'] == str(z_num):\n",
    "            g['properties']['hood'] = zip['properties']['NEIGHBORHOOD']\n",
    "        \n",
    "    g['properties']['arrest'] = {\n",
    "        '201701':int(evictions.loc[evictions['ZCTA']==z_num]['2017/01'].values[0]),\n",
    "        '201702':int(evictions.loc[evictions['ZCTA']==z_num]['2017/02'].values[0]),\n",
    "        '201703':int(evictions.loc[evictions['ZCTA']==z_num]['2017/03'].values[0]),\n",
    "        '201704':int(evictions.loc[evictions['ZCTA']==z_num]['2017/04'].values[0]),\n",
    "        '201705':int(evictions.loc[evictions['ZCTA']==z_num]['2017/05'].values[0]),\n",
    "        '201706':int(evictions.loc[evictions['ZCTA']==z_num]['2017/06'].values[0]),\n",
    "        '201707':int(evictions.loc[evictions['ZCTA']==z_num]['2017/07'].values[0]),\n",
    "        '201708':int(evictions.loc[evictions['ZCTA']==z_num]['2017/08'].values[0]),\n",
    "        '201709':int(evictions.loc[evictions['ZCTA']==z_num]['2017/09'].values[0]),\n",
    "        '201710':int(evictions.loc[evictions['ZCTA']==z_num]['2017/10'].values[0]),\n",
    "        '201711':int(evictions.loc[evictions['ZCTA']==z_num]['2017/11'].values[0]),\n",
    "        '201712':int(evictions.loc[evictions['ZCTA']==z_num]['2017/12'].values[0]),\n",
    "        '201801':int(evictions.loc[evictions['ZCTA']==z_num]['2018/01'].values[0]),\n",
    "        '201802':int(evictions.loc[evictions['ZCTA']==z_num]['2018/02'].values[0]),\n",
    "        '201803':int(evictions.loc[evictions['ZCTA']==z_num]['2018/03'].values[0]),\n",
    "        '201804':int(evictions.loc[evictions['ZCTA']==z_num]['2018/04'].values[0]),\n",
    "        '201805':int(evictions.loc[evictions['ZCTA']==z_num]['2018/05'].values[0]),\n",
    "        '201806':int(evictions.loc[evictions['ZCTA']==z_num]['2018/06'].values[0]),\n",
    "        '201807':int(evictions.loc[evictions['ZCTA']==z_num]['2018/07'].values[0]),\n",
    "        '201808':int(evictions.loc[evictions['ZCTA']==z_num]['2018/08'].values[0]),\n",
    "        '201809':int(evictions.loc[evictions['ZCTA']==z_num]['2018/09'].values[0]),\n",
    "        '201810':int(evictions.loc[evictions['ZCTA']==z_num]['2018/10'].values[0]),\n",
    "        '201811':int(evictions.loc[evictions['ZCTA']==z_num]['2018/11'].values[0]),\n",
    "        '201812':int(evictions.loc[evictions['ZCTA']==z_num]['2018/12'].values[0]),\n",
    "        '201901':int(evictions.loc[evictions['ZCTA']==z_num]['2019/01'].values[0]),\n",
    "        '201902':int(evictions.loc[evictions['ZCTA']==z_num]['2019/02'].values[0]),\n",
    "        '201903':int(evictions.loc[evictions['ZCTA']==z_num]['2019/03'].values[0]),\n",
    "        '201904':int(evictions.loc[evictions['ZCTA']==z_num]['2019/04'].values[0]),\n",
    "        '201905':int(evictions.loc[evictions['ZCTA']==z_num]['2019/05'].values[0]),\n",
    "        '201906':int(evictions.loc[evictions['ZCTA']==z_num]['2019/06'].values[0]),\n",
    "        '201907':int(evictions.loc[evictions['ZCTA']==z_num]['2019/07'].values[0]),\n",
    "        '201908':int(evictions.loc[evictions['ZCTA']==z_num]['2019/08'].values[0]),\n",
    "        '201909':int(evictions.loc[evictions['ZCTA']==z_num]['2019/09'].values[0]),\n",
    "        '201910':int(evictions.loc[evictions['ZCTA']==z_num]['2019/10'].values[0]),\n",
    "        '201911':int(evictions.loc[evictions['ZCTA']==z_num]['2019/11'].values[0]),\n",
    "        '201912':int(evictions.loc[evictions['ZCTA']==z_num]['2019/12'].values[0]),\n",
    "        '202001':int(evictions.loc[evictions['ZCTA']==z_num]['2020/01'].values[0]),\n",
    "        '202002':int(evictions.loc[evictions['ZCTA']==z_num]['2020/02'].values[0]),\n",
    "        '202003':int(evictions.loc[evictions['ZCTA']==z_num]['2020/03'].values[0]),\n",
    "        '202004':int(evictions.loc[evictions['ZCTA']==z_num]['2020/04'].values[0]),\n",
    "        '202005':int(evictions.loc[evictions['ZCTA']==z_num]['2020/05'].values[0]),\n",
    "        '202006':int(evictions.loc[evictions['ZCTA']==z_num]['2020/06'].values[0]),\n",
    "        '202007':int(evictions.loc[evictions['ZCTA']==z_num]['2020/07'].values[0]),\n",
    "        '202008':int(evictions.loc[evictions['ZCTA']==z_num]['2020/08'].values[0]),\n",
    "        '202009':int(evictions.loc[evictions['ZCTA']==z_num]['2020/09'].values[0]),\n",
    "        '202010':int(evictions.loc[evictions['ZCTA']==z_num]['2020/10'].values[0]),\n",
    "        '202011':int(evictions.loc[evictions['ZCTA']==z_num]['2020/11'].values[0]),\n",
    "        '202012':int(evictions.loc[evictions['ZCTA']==z_num]['2020/12'].values[0]),\n",
    "        '202101':int(evictions.loc[evictions['ZCTA']==z_num]['2021/01'].values[0]),\n",
    "        '202102':int(evictions.loc[evictions['ZCTA']==z_num]['2021/02'].values[0]),\n",
    "        '202103':int(evictions.loc[evictions['ZCTA']==z_num]['2021/03'].values[0]),\n",
    "        '202104':int(evictions.loc[evictions['ZCTA']==z_num]['2021/04'].values[0]),\n",
    "        '202105':int(evictions.loc[evictions['ZCTA']==z_num]['2021/05'].values[0]),\n",
    "        '202106':int(evictions.loc[evictions['ZCTA']==z_num]['2021/06'].values[0]),\n",
    "        '202107':int(evictions.loc[evictions['ZCTA']==z_num]['2021/07'].values[0]),\n",
    "        '202108':int(evictions.loc[evictions['ZCTA']==z_num]['2021/08'].values[0]),\n",
    "        '202109':int(evictions.loc[evictions['ZCTA']==z_num]['2021/09'].values[0]),\n",
    "        '202110':int(evictions.loc[evictions['ZCTA']==z_num]['2021/10'].values[0]),\n",
    "        '202111':int(evictions.loc[evictions['ZCTA']==z_num]['2021/11'].values[0]),\n",
    "        '202112':int(evictions.loc[evictions['ZCTA']==z_num]['2021/12'].values[0]),\n",
    "        '202201':int(evictions.loc[evictions['ZCTA']==z_num]['2022/01'].values[0]),\n",
    "        '202202':int(evictions.loc[evictions['ZCTA']==z_num]['2022/02'].values[0]),\n",
    "        '202203':int(evictions.loc[evictions['ZCTA']==z_num]['2022/03'].values[0]),\n",
    "        '202204':int(evictions.loc[evictions['ZCTA']==z_num]['2022/04'].values[0]),\n",
    "        '202205':int(evictions.loc[evictions['ZCTA']==z_num]['2022/05'].values[0]),\n",
    "        '202206':int(evictions.loc[evictions['ZCTA']==z_num]['2022/06'].values[0]),\n",
    "        'total': sum(evictions.loc[evictions['ZCTA']==z_num].values[0][1:])\n",
    "    }"
   ]
  },
  {
   "cell_type": "code",
   "execution_count": null,
   "metadata": {},
   "outputs": [],
   "source": [
    "topojson['features'] = geometries"
   ]
  },
  {
   "cell_type": "code",
   "execution_count": null,
   "metadata": {},
   "outputs": [],
   "source": [
    "with open('zcta-refined-nodupes.json', 'w') as outfile:\n",
    "    json.dump(topojson, outfile)"
   ]
  },
  {
   "cell_type": "code",
   "execution_count": null,
   "metadata": {},
   "outputs": [],
   "source": []
  },
  {
   "cell_type": "code",
   "execution_count": null,
   "metadata": {},
   "outputs": [],
   "source": []
  },
  {
   "cell_type": "code",
   "execution_count": null,
   "metadata": {},
   "outputs": [],
   "source": []
  },
  {
   "cell_type": "code",
   "execution_count": null,
   "metadata": {},
   "outputs": [],
   "source": []
  },
  {
   "cell_type": "code",
   "execution_count": null,
   "metadata": {},
   "outputs": [],
   "source": []
  },
  {
   "cell_type": "code",
   "execution_count": null,
   "metadata": {},
   "outputs": [],
   "source": []
  }
 ],
 "metadata": {
  "kernelspec": {
   "display_name": "Python 3 (ipykernel)",
   "language": "python",
   "name": "python3"
  },
  "language_info": {
   "codemirror_mode": {
    "name": "ipython",
    "version": 3
   },
   "file_extension": ".py",
   "mimetype": "text/x-python",
   "name": "python",
   "nbconvert_exporter": "python",
   "pygments_lexer": "ipython3",
   "version": "3.8.9"
  }
 },
 "nbformat": 4,
 "nbformat_minor": 4
}
