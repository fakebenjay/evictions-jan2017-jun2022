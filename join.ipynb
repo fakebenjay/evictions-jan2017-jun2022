{
 "cells": [
  {
   "cell_type": "code",
   "execution_count": 34,
   "metadata": {},
   "outputs": [],
   "source": [
    "import pandas as pd\n",
    "import json"
   ]
  },
  {
   "cell_type": "code",
   "execution_count": 35,
   "metadata": {},
   "outputs": [],
   "source": [
    "evictions = pd.read_excel('Evictions(1).xlsx', 1)\n",
    "\n",
    "with open('Modified Zip Code Tabulation Areas (MODZCTA).geojson') as f:\n",
    "  topojson = json.load(f)\n",
    "\n",
    "with open('data-clean.json') as f:\n",
    "  hoods = json.load(f)"
   ]
  },
  {
   "cell_type": "code",
   "execution_count": 36,
   "metadata": {},
   "outputs": [],
   "source": [
    "geometries = topojson['features']"
   ]
  },
  {
   "cell_type": "code",
   "execution_count": 37,
   "metadata": {},
   "outputs": [],
   "source": [
    "evictions = evictions.fillna(0)"
   ]
  },
  {
   "cell_type": "code",
   "execution_count": null,
   "metadata": {},
   "outputs": [],
   "source": []
  },
  {
   "cell_type": "code",
   "execution_count": 38,
   "metadata": {},
   "outputs": [
    {
     "name": "stdout",
     "output_type": "stream",
     "text": [
      "Brooklyn: Boerum Hill, BoCoCa\n"
     ]
    }
   ],
   "source": [
    "for zip in hoods['objects']['zips']['geometries']:\n",
    "    if zip['properties']['ZCTA5CE10'] == '11217':\n",
    "        print(zip['properties']['NEIGHBORHOOD'])"
   ]
  },
  {
   "cell_type": "code",
   "execution_count": 39,
   "metadata": {},
   "outputs": [],
   "source": [
    "for g in geometries:\n",
    "    z_num = int(g['properties']['modzcta'])\n",
    "    \n",
    "    for zip in hoods['objects']['zips']['geometries']:\n",
    "        if zip['properties']['ZCTA5CE10'] == str(z_num):\n",
    "            g['properties']['hood'] = zip['properties']['NEIGHBORHOOD']\n",
    "        \n",
    "    g['properties']['arrest'] = {\n",
    "        '201701':int(evictions.loc[evictions['ZCTA']==z_num]['2017/01'].values[0]),\n",
    "        '201702':int(evictions.loc[evictions['ZCTA']==z_num]['2017/02'].values[0]),\n",
    "        '201703':int(evictions.loc[evictions['ZCTA']==z_num]['2017/03'].values[0]),\n",
    "        '201704':int(evictions.loc[evictions['ZCTA']==z_num]['2017/04'].values[0]),\n",
    "        '201705':int(evictions.loc[evictions['ZCTA']==z_num]['2017/05'].values[0]),\n",
    "        '201706':int(evictions.loc[evictions['ZCTA']==z_num]['2017/06'].values[0]),\n",
    "        '201707':int(evictions.loc[evictions['ZCTA']==z_num]['2017/07'].values[0]),\n",
    "        '201708':int(evictions.loc[evictions['ZCTA']==z_num]['2017/08'].values[0]),\n",
    "        '201709':int(evictions.loc[evictions['ZCTA']==z_num]['2017/09'].values[0]),\n",
    "        '201710':int(evictions.loc[evictions['ZCTA']==z_num]['2017/10'].values[0]),\n",
    "        '201711':int(evictions.loc[evictions['ZCTA']==z_num]['2017/11'].values[0]),\n",
    "        '201712':int(evictions.loc[evictions['ZCTA']==z_num]['2017/12'].values[0]),\n",
    "        '201801':int(evictions.loc[evictions['ZCTA']==z_num]['2018/01'].values[0]),\n",
    "        '201802':int(evictions.loc[evictions['ZCTA']==z_num]['2018/02'].values[0]),\n",
    "        '201803':int(evictions.loc[evictions['ZCTA']==z_num]['2018/03'].values[0]),\n",
    "        '201804':int(evictions.loc[evictions['ZCTA']==z_num]['2018/04'].values[0]),\n",
    "        '201805':int(evictions.loc[evictions['ZCTA']==z_num]['2018/05'].values[0]),\n",
    "        '201806':int(evictions.loc[evictions['ZCTA']==z_num]['2018/06'].values[0]),\n",
    "        '201807':int(evictions.loc[evictions['ZCTA']==z_num]['2018/07'].values[0]),\n",
    "        '201808':int(evictions.loc[evictions['ZCTA']==z_num]['2018/08'].values[0]),\n",
    "        '201809':int(evictions.loc[evictions['ZCTA']==z_num]['2018/09'].values[0]),\n",
    "        '201810':int(evictions.loc[evictions['ZCTA']==z_num]['2018/10'].values[0]),\n",
    "        '201811':int(evictions.loc[evictions['ZCTA']==z_num]['2018/11'].values[0]),\n",
    "        '201812':int(evictions.loc[evictions['ZCTA']==z_num]['2018/12'].values[0]),\n",
    "        '201901':int(evictions.loc[evictions['ZCTA']==z_num]['2019/01'].values[0]),\n",
    "        '201902':int(evictions.loc[evictions['ZCTA']==z_num]['2019/02'].values[0]),\n",
    "        '201903':int(evictions.loc[evictions['ZCTA']==z_num]['2019/03'].values[0]),\n",
    "        '201904':int(evictions.loc[evictions['ZCTA']==z_num]['2019/04'].values[0]),\n",
    "        '201905':int(evictions.loc[evictions['ZCTA']==z_num]['2019/05'].values[0]),\n",
    "        '201906':int(evictions.loc[evictions['ZCTA']==z_num]['2019/06'].values[0]),\n",
    "        '201907':int(evictions.loc[evictions['ZCTA']==z_num]['2019/07'].values[0]),\n",
    "        '201908':int(evictions.loc[evictions['ZCTA']==z_num]['2019/08'].values[0]),\n",
    "        '201909':int(evictions.loc[evictions['ZCTA']==z_num]['2019/09'].values[0]),\n",
    "        '201910':int(evictions.loc[evictions['ZCTA']==z_num]['2019/10'].values[0]),\n",
    "        '201911':int(evictions.loc[evictions['ZCTA']==z_num]['2019/11'].values[0]),\n",
    "        '201912':int(evictions.loc[evictions['ZCTA']==z_num]['2019/12'].values[0]),\n",
    "        '202001':int(evictions.loc[evictions['ZCTA']==z_num]['2020/01'].values[0]),\n",
    "        '202002':int(evictions.loc[evictions['ZCTA']==z_num]['2020/02'].values[0]),\n",
    "        '202003':int(evictions.loc[evictions['ZCTA']==z_num]['2020/03'].values[0]),\n",
    "        '202004':int(evictions.loc[evictions['ZCTA']==z_num]['2020/04'].values[0]),\n",
    "        '202005':int(evictions.loc[evictions['ZCTA']==z_num]['2020/05'].values[0]),\n",
    "        '202006':int(evictions.loc[evictions['ZCTA']==z_num]['2020/06'].values[0]),\n",
    "        '202007':int(evictions.loc[evictions['ZCTA']==z_num]['2020/07'].values[0]),\n",
    "        '202008':int(evictions.loc[evictions['ZCTA']==z_num]['2020/08'].values[0]),\n",
    "        '202009':int(evictions.loc[evictions['ZCTA']==z_num]['2020/09'].values[0]),\n",
    "        '202010':int(evictions.loc[evictions['ZCTA']==z_num]['2020/10'].values[0]),\n",
    "        '202011':int(evictions.loc[evictions['ZCTA']==z_num]['2020/11'].values[0]),\n",
    "        '202012':int(evictions.loc[evictions['ZCTA']==z_num]['2020/12'].values[0]),\n",
    "        '202101':int(evictions.loc[evictions['ZCTA']==z_num]['2021/01'].values[0]),\n",
    "        '202102':int(evictions.loc[evictions['ZCTA']==z_num]['2021/02'].values[0]),\n",
    "        '202103':int(evictions.loc[evictions['ZCTA']==z_num]['2021/03'].values[0]),\n",
    "        '202104':int(evictions.loc[evictions['ZCTA']==z_num]['2021/04'].values[0]),\n",
    "        '202105':int(evictions.loc[evictions['ZCTA']==z_num]['2021/05'].values[0]),\n",
    "        '202106':int(evictions.loc[evictions['ZCTA']==z_num]['2021/06'].values[0]),\n",
    "        '202107':int(evictions.loc[evictions['ZCTA']==z_num]['2021/07'].values[0]),\n",
    "        '202108':int(evictions.loc[evictions['ZCTA']==z_num]['2021/08'].values[0]),\n",
    "        '202109':int(evictions.loc[evictions['ZCTA']==z_num]['2021/09'].values[0]),\n",
    "        '202110':int(evictions.loc[evictions['ZCTA']==z_num]['2021/10'].values[0]),\n",
    "        '202111':int(evictions.loc[evictions['ZCTA']==z_num]['2021/11'].values[0]),\n",
    "        '202112':int(evictions.loc[evictions['ZCTA']==z_num]['2021/12'].values[0]),\n",
    "        '202201':int(evictions.loc[evictions['ZCTA']==z_num]['2022/01'].values[0]),\n",
    "        '202202':int(evictions.loc[evictions['ZCTA']==z_num]['2022/02'].values[0]),\n",
    "        '202203':int(evictions.loc[evictions['ZCTA']==z_num]['2022/03'].values[0]),\n",
    "        '202204':int(evictions.loc[evictions['ZCTA']==z_num]['2022/04'].values[0]),\n",
    "        '202205':int(evictions.loc[evictions['ZCTA']==z_num]['2022/05'].values[0]),\n",
    "        '202206':int(evictions.loc[evictions['ZCTA']==z_num]['2022/06'].values[0]),\n",
    "        'total': sum(evictions.loc[evictions['ZCTA']==z_num].values[0][1:])\n",
    "    }"
   ]
  },
  {
   "cell_type": "code",
   "execution_count": 40,
   "metadata": {},
   "outputs": [],
   "source": [
    "topojson['features'] = geometries"
   ]
  },
  {
   "cell_type": "code",
   "execution_count": 41,
   "metadata": {},
   "outputs": [],
   "source": [
    "with open('zcta-refined.json', 'w') as outfile:\n",
    "    json.dump(topojson, outfile)"
   ]
  },
  {
   "cell_type": "code",
   "execution_count": null,
   "metadata": {},
   "outputs": [],
   "source": []
  },
  {
   "cell_type": "code",
   "execution_count": null,
   "metadata": {},
   "outputs": [],
   "source": []
  },
  {
   "cell_type": "code",
   "execution_count": null,
   "metadata": {},
   "outputs": [],
   "source": []
  },
  {
   "cell_type": "code",
   "execution_count": null,
   "metadata": {},
   "outputs": [],
   "source": []
  },
  {
   "cell_type": "code",
   "execution_count": null,
   "metadata": {},
   "outputs": [],
   "source": []
  },
  {
   "cell_type": "code",
   "execution_count": null,
   "metadata": {},
   "outputs": [],
   "source": []
  }
 ],
 "metadata": {
  "kernelspec": {
   "display_name": "Python 3 (ipykernel)",
   "language": "python",
   "name": "python3"
  },
  "language_info": {
   "codemirror_mode": {
    "name": "ipython",
    "version": 3
   },
   "file_extension": ".py",
   "mimetype": "text/x-python",
   "name": "python",
   "nbconvert_exporter": "python",
   "pygments_lexer": "ipython3",
   "version": "3.8.9"
  }
 },
 "nbformat": 4,
 "nbformat_minor": 4
}
